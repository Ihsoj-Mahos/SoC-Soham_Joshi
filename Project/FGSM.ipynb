{
  "cells": [
    {
      "cell_type": "markdown",
      "metadata": {
        "id": "RksWtNuHg9Rb"
      },
      "source": [
        "# CNN-lytical Assignment-1\n",
        "*  In this assignment, we will build a classifier for MNIST from scratch using just [NumPy](https://numpy.org/)\n",
        "\n",
        "*  [MNIST](http://yann.lecun.com/exdb/mnist/) dataset contains images of handwritten digits of size 28x28\n",
        "\n",
        "*  The dataset that you are expected to use for training can be found [here](https://drive.google.com/file/d/1z7lwIml6UxsNpDIW3_mPPEb8SoaPC5Zg/view)\n",
        "\n",
        "*   Our model will have 1 hidden layer, like the one below (not our recommendation to use 256 in the hidden layer though, try various values out)\n",
        "\n",
        "**Feel free to redefine any function signatures below, just make sure the final cell remains the same.**\n",
        "\n",
        "<center>\n",
        "<img src=\"https://user-images.githubusercontent.com/81357954/166119893-4ca347b8-b1a4-40b8-9e0a-2e92b5f164ae.png\">\n",
        "</center>"
      ]
    },
    {
      "cell_type": "markdown",
      "metadata": {
        "id": "UyOAG55siwdI"
      },
      "source": [
        "## Import libraries here\n",
        "NumPy, Matplotlib, ...\n",
        "\n",
        "Also remember to initialize the seed for reproducibility of results"
      ]
    },
    {
      "cell_type": "code",
      "execution_count": 1,
      "metadata": {
        "id": "7iVUsRLxjAb9"
      },
      "outputs": [],
      "source": [
        "import numpy as np\n",
        "import matplotlib.pyplot as plt\n",
        "from sklearn.model_selection import train_test_split\n",
        "from sklearn import preprocessing\n",
        "import pickle\n",
        "np.random.seed(0)"
      ]
    },
    {
      "cell_type": "markdown",
      "metadata": {
        "id": "HaLDC4wN0eQs"
      },
      "source": [
        "## Load *Dataset*\n",
        "Load data from the given pickle file"
      ]
    },
    {
      "cell_type": "code",
      "execution_count": 2,
      "metadata": {
        "id": "6qOjNSmx0iUn",
        "colab": {
          "base_uri": "https://localhost:8080/"
        },
        "outputId": "367043c2-0dbe-4d26-f581-3205c71ab190"
      },
      "outputs": [
        {
          "output_type": "stream",
          "name": "stdout",
          "text": [
            "Mounted at /content/drive\n"
          ]
        }
      ],
      "source": [
        "\n",
        "# load the data set\n",
        "from google.colab import drive\n",
        "drive.mount('/content/drive')\n",
        "\n",
        "with open('/content/drive/MyDrive/train_data.pkl', 'rb') as f:\n",
        "  data = pickle.load(f)\n",
        "\n",
        "X = data['X']\n",
        "y = data['y']\n",
        "\n",
        "#shuffling X and y so that selection is random\n",
        "p = np.random.permutation(len(X))\n",
        "X = X[p]\n",
        "y = y[p]\n",
        "\n",
        "split = int(0.83*X.shape[0])\n",
        "train_X = X[:split][:]\n",
        "test_X = X[split:][:]\n",
        "y = y.reshape(1, y.shape[0])\n",
        "[y] = y\n",
        "train_y = y[:split]\n",
        "test_y = y[split:]\n",
        "X_train = train_X\n",
        "X_test = test_X\n",
        "\n",
        "# making sure they are numpy arrays\n",
        "X_train = np.array(X_train, dtype=np.float128)\n",
        "X_test = np.array(X_test, dtype=np.float128)\n",
        "\n",
        "y_train = train_y\n",
        "y_test = test_y\n",
        "# Now they are 2D arrays, with columns being different examples\n",
        "# However, while extracting examples we need to take T again as it's easier to pinpoint examples that way and reshape them to (28, 28)\n",
        "X_train = X_train.reshape(X_train.shape[0], 784).T\n",
        "X_test = X_test.reshape(X_test.shape[0], 784).T\n",
        "scale= preprocessing.StandardScaler()\n",
        "X_train  = scale.fit_transform(X_train)\n",
        "X_test  = scale.fit_transform(X_test)\n"
      ]
    },
    {
      "cell_type": "code",
      "execution_count": 3,
      "metadata": {
        "id": "id77Oqc90kTf",
        "colab": {
          "base_uri": "https://localhost:8080/",
          "height": 313
        },
        "outputId": "5d8e6124-3845-46e0-bc52-14aae41a2043"
      },
      "outputs": [
        {
          "output_type": "display_data",
          "data": {
            "text/plain": [
              "<Figure size 432x288 with 16 Axes>"
            ],
            "image/png": "[encoded data removed]"
          },
          "metadata": {
            "needs_background": "light"
          }
        }
      ],
      "source": [
        "# display a 4x4 grid, \n",
        "# choose 16 images randomly, display the images as well as corresponding labels\n",
        "f, axarr = plt.subplots(4, 4, constrained_layout = True)\n",
        "\n",
        "for i in range(4):\n",
        "  for j in range(4):\n",
        "    number = np.random.randint(0, X_train.shape[1])\n",
        "    axarr[i][j].imshow(X_train.T[number].reshape(28, 28), cmap = 'gray')\n",
        "    axarr[i][j].set_title(y_train[number])"
      ]
    },
    {
      "cell_type": "markdown",
      "metadata": {
        "id": "VFYnsPVLmsiW"
      },
      "source": [
        "## Building up parts of our classifier"
      ]
    },
    {
      "cell_type": "markdown",
      "metadata": {
        "id": "wAsGtgxUpGh2"
      },
      "source": [
        "**Activation functions**"
      ]
    },
    {
      "cell_type": "code",
      "execution_count": 4,
      "metadata": {
        "id": "6Di5Ck47msCQ"
      },
      "outputs": [],
      "source": [
        "def relu(z):\n",
        "    \"\"\"\n",
        "    Arguments:\n",
        "    z -- A scalar or numpy array.\n",
        "    Return:\n",
        "    relu func applied to each element of z\n",
        "    \"\"\"\n",
        "    # 0 < z creates a mask to be applied over z\n",
        "    return (0 < z) * z\n",
        "\n",
        "def softmax(z):\n",
        "    \"\"\"\n",
        "    returns computed probabilitites for each element in batch separately\n",
        "    input: (N, 10)\n",
        "    output: (N, 10)\n",
        "    \"\"\"\n",
        "    z = z - np.max(z, axis = 0)\n",
        "    return np.exp(z)/np.sum(np.exp(z), axis=0, keepdims = True)\n"
      ]
    },
    {
      "cell_type": "markdown",
      "metadata": {
        "id": "G-q5HJHIocdn"
      },
      "source": [
        "**Notes about the Neural Network** \n",
        "*   Input size is (784,) because 28x28 = 784\n",
        "*   Output size will be 10, each element represeting probability of the image representing that digit\n",
        "*   Size of the hidden layer is a hyperparameter\n",
        "\n"
      ]
    },
    {
      "cell_type": "markdown",
      "metadata": {
        "id": "azTAuS5spFcz"
      },
      "source": [
        "**Initialize the layers weights**\n",
        "\n",
        "Generally, we follow the convention that weights are drawn from a standard normal distribution, while the bias vectors are initialized to zero. But you can try everything out :)"
      ]
    },
    {
      "cell_type": "code",
      "execution_count": 5,
      "metadata": {
        "id": "38E3_hVPocMm"
      },
      "outputs": [],
      "source": [
        "def init_params(layers_dims): # takes sizes of layers i.e. n_0. n_1, n_2\n",
        "    \"\"\"\n",
        "    ideally it should take the size of all the layers and \n",
        "    should return the initialized weights.\n",
        "    \"\"\"\n",
        "    params = {}\n",
        "    \n",
        "    # initialisation of weights, biases -- such that gradients don't explode\n",
        "    params[\"W\" + str(1)] = np.random.randn(layers_dims[1], layers_dims[0])* np.sqrt(2/layers_dims[0]) \n",
        "    params[\"b\" + str(1)] = np.zeros((layers_dims[1], 1))\n",
        "    params[\"W\" + str(2)] = np.random.randn(layers_dims[2], layers_dims[1])* np.sqrt(2/layers_dims[1]) \n",
        "    params[\"b\" + str(2)] = np.zeros((layers_dims[2], 1))\n",
        "    return params\n",
        "    # returns weights and biases of each layer\n",
        "  \n"
      ]
    },
    {
      "cell_type": "markdown",
      "metadata": {
        "id": "UlX8zy-7pv2n"
      },
      "source": [
        "**Forward Propagation**"
      ]
    },
    {
      "cell_type": "code",
      "execution_count": 6,
      "metadata": {
        "id": "TJ8lgrqjjASz"
      },
      "outputs": [],
      "source": [
        "def forward_propg(X, params):\n",
        "    \"\"\"\n",
        "    X: input data\n",
        "    returns: logits, output of each layer z1,z2,a1,a2\n",
        "    \"\"\"\n",
        "    Output = {}\n",
        "    Output[\"z1\"] = np.dot(params[\"W1\"], X) + params[\"b1\"]\n",
        "    assert(params[\"W1\"].shape[1] == X.shape[0])\n",
        "    Output[\"a1\"] = relu(Output[\"z1\"])\n",
        "    Output[\"z2\"] = np.dot(params[\"W2\"], Output[\"a1\"]) + params[\"b2\"]\n",
        "    assert(params[\"W2\"].shape[1] == Output[\"a1\"].shape[0])\n",
        "    Output[\"a2\"] = softmax(Output[\"z2\"])\n",
        "\n",
        "    return Output\n",
        "    #Returns output of each layer (does not return X)\n"
      ]
    },
    {
      "cell_type": "markdown",
      "metadata": {
        "id": "asZmbRVvuy5x"
      },
      "source": [
        "**Backward Propagation**\n",
        "\n",
        "\n",
        "You may use stochastic gradient descent or batch gradient descent here. Feel free to use any loss function."
      ]
    },
    {
      "cell_type": "code",
      "execution_count": 7,
      "metadata": {
        "colab": {
          "base_uri": "https://localhost:8080/",
          "height": 53
        },
        "id": "kAmrTAlimjUN",
        "outputId": "ddb08b04-13d2-4012-938a-b819686fae92"
      },
      "outputs": [
        {
          "output_type": "execute_result",
          "data": {
            "text/plain": [
              "'\\nTESTING CODE\\nparams = init_params((2, 5, 2))\\nX = np.array([[2, 3, 4], [5, 6, 7]])\\ny = np.array([2, 5, 0])\\nOutput = forward_propg(X, params)\\nlr = 0.1\\nparams = backward_propg(params, X, y, Output, lr)\\nprint(params)\\n'"
            ],
            "application/vnd.google.colaboratory.intrinsic+json": {
              "type": "string"
            }
          },
          "metadata": {},
          "execution_count": 7
        }
      ],
      "source": [
        "\n",
        "def backward_propg(params, X, y, Output, lr):\n",
        "    \"\"\"\n",
        "    should update the weights and return updated weights\n",
        "    \"\"\"\n",
        "    a2 = Output[\"a2\"]\n",
        "    z2 = Output[\"z2\"]\n",
        "    a1 = Output[\"a1\"]\n",
        "    z1 = Output[\"z1\"]\n",
        "    W1 = params[\"W1\"]\n",
        "    W2 = params[\"W2\"]\n",
        "    b1 = params[\"b1\"]\n",
        "    b2 = params[\"b2\"]\n",
        "\n",
        "    mask = np.zeros((y.size, 10)) # creates one-hot encoded mask (2D)\n",
        "    mask[np.arange(y.size),y] = 1\n",
        "    mask = mask.T  # mask created\n",
        "\n",
        "    grads = {}\n",
        "    \n",
        "    ''' the below logic is not working properly\n",
        "    da2 = np.divide(np.multiply(a2, a2)/np.sum(a2, axis = 0, keepdims = True) - mask, a2)\n",
        "    post = np.exp(z2)/np.sum(np.exp(z2), axis = 0, keepdims = True)\n",
        "    dz2 = np.multiply(np.dot(da2.T, post), z2)\n",
        "    '''\n",
        "    dz2 = a2 - mask\n",
        "    grads[\"dW2\"] = np.dot(dz2, a1.T)/X.shape[1] # a2 is a 2D array but this works because of broadcasting\n",
        "    grads[\"db2\"] = np.sum(dz2, axis = 1, keepdims = True)/X.shape[1] \n",
        "    da1 = np.dot(W2.T, dz2)\n",
        "    dz1 = da1 * (z1 > 0)\n",
        "    grads[\"dW1\"] = np.dot(dz1, X.T)/X.shape[1]\n",
        "    grads[\"db1\"] = np.sum(dz1, axis = 1, keepdims = True)/X.shape[1]\n",
        "    grads[\"dX\"] = np.dot(W1.T, dz1)\n",
        "    params[\"W1\"] -= lr * grads[\"dW1\"]\n",
        "    params[\"W2\"] -= lr * grads[\"dW2\"]\n",
        "    params[\"b1\"] -= lr * grads[\"db1\"]\n",
        "    params[\"b2\"] -= lr * grads[\"db2\"]\n",
        "    params[\"dX\"] = grads[\"dX\"]\n",
        "\n",
        "    return params\n",
        "'''\n",
        "TESTING CODE\n",
        "params = init_params((2, 5, 2))\n",
        "X = np.array([[2, 3, 4], [5, 6, 7]])\n",
        "y = np.array([2, 5, 0])\n",
        "Output = forward_propg(X, params)\n",
        "lr = 0.1\n",
        "params = backward_propg(params, X, y, Output, lr)\n",
        "print(params)\n",
        "'''"
      ]
    },
    {
      "cell_type": "code",
      "execution_count": 8,
      "metadata": {
        "id": "cVDz0IGnvzpe"
      },
      "outputs": [],
      "source": [
        "def cost_func(X,y,params):\n",
        "    \"\"\"\n",
        "    calculate loss to check whether it is decreasing at each epoch or not\n",
        "    one can return this in backward propagation as well\n",
        "    \"\"\"\n",
        "    Output = forward_propg(X, params)\n",
        "    a2 = Output[\"a2\"]\n",
        "\n",
        "    # Output lies between 0 and 1 -- I am using cross entropy\n",
        "    # X is a 2 dimensonal vector, 2nd dim = examples, y is a 1D vector, a2 is a 2D vector\n",
        "    mask = np.zeros((y.size, 10)) # creates one-hot encoded mask (2D)\n",
        "    mask[np.arange(y.size),y] = 1\n",
        "    mask = mask.T  # mask created\n",
        "    loss = -np.sum(mask * np.log(a2))/X.shape[1]\n",
        "    return loss\n",
        "params = init_params((784, 100, 10))\n"
      ]
    },
    {
      "cell_type": "markdown",
      "metadata": {
        "id": "GUlhpcs9ylOX"
      },
      "source": [
        "\n",
        "## Integrate everything"
      ]
    },
    {
      "cell_type": "code",
      "execution_count": 9,
      "metadata": {
        "id": "SDGdT7PVmjRU"
      },
      "outputs": [],
      "source": [
        "def train(X, y, hidden_nodes, epochs=1000, lr=1e-5):\n",
        "    \"\"\"\n",
        "    hidden_nodes: no. of nodes in hidden layer\n",
        "\n",
        "    should return the updated optimize weights.\n",
        "    \"\"\"\n",
        "    # initialize weights.\n",
        "    X = X.reshape(784 , X.shape[1])\n",
        "    layers_dims = (784, hidden_nodes, 10)\n",
        "    params = init_params(layers_dims)\n",
        "    for i in range(epochs):\n",
        "        # forward propagation\n",
        "        Output = forward_propg(X, params)\n",
        "        # print cost at every 100 or so iterations\n",
        "        if (i%100 == 0):\n",
        "            print(\"Cost after iteration\",i,\":\",cost_func(X, y, params))\n",
        "        # backward propagation\n",
        "        params = backward_propg(params, X, y, Output, lr)\n",
        "    return params"
      ]
    },
    {
      "cell_type": "code",
      "execution_count": 10,
      "metadata": {
        "id": "9XBinWpPmjOS"
      },
      "outputs": [],
      "source": [
        "def predict(X, params):\n",
        "    \"\"\"\n",
        "    returns the prediction in [0,9] for each element in X\n",
        "    \"\"\"\n",
        "    Output = forward_propg(X, params)\n",
        "    return np.argmax(Output[\"a2\"], axis = 0)\n",
        "    #returns a vector with numbers for each example"
      ]
    },
    {
      "cell_type": "code",
      "execution_count": 11,
      "metadata": {
        "id": "CtKSZWw71wc4",
        "colab": {
          "base_uri": "https://localhost:8080/",
          "height": 35
        },
        "outputId": "c3ba34d7-22aa-4456-8e24-782f1809b68d"
      },
      "outputs": [
        {
          "output_type": "execute_result",
          "data": {
            "text/plain": [
              "'\\nTesting\\npredictions = np.array([1, 2, 3])\\ny = np.array([2, 3, 3])\\nprint(accuracy(predictions, y))\\n'"
            ],
            "application/vnd.google.colaboratory.intrinsic+json": {
              "type": "string"
            }
          },
          "metadata": {},
          "execution_count": 11
        }
      ],
      "source": [
        "def accuracy(predictions, y):\n",
        "    \"\"\"\n",
        "    prints % accuracy\n",
        "    \"\"\"\n",
        "    new_vector = (predictions == y)\n",
        "    return np.sum(new_vector)*100./len(new_vector)\n",
        "'''\n",
        "Testing\n",
        "predictions = np.array([1, 2, 3])\n",
        "y = np.array([2, 3, 3])\n",
        "print(accuracy(predictions, y))\n",
        "'''"
      ]
    },
    {
      "cell_type": "code",
      "execution_count": 12,
      "metadata": {
        "id": "r0mbRDsGWCD0",
        "colab": {
          "base_uri": "https://localhost:8080/"
        },
        "outputId": "3a816582-7f3c-4aa8-a93b-4d66a8528c78"
      },
      "outputs": [
        {
          "output_type": "stream",
          "name": "stdout",
          "text": [
            "Cost after iteration 0 : 3.064614349437025\n",
            "Cost after iteration 100 : 0.3852150126565306\n",
            "Percentage Accuracy :  88.03921568627452 %\n"
          ]
        }
      ],
      "source": [
        "params = train((X_train.T[:2000]).T, y_train[:2000], 150, 200, 0.02) #params used in the model\n",
        "predictions = predict(X_test, params)\n",
        "result = accuracy(predictions, y_test)\n",
        "print(\"Percentage Accuracy : \", result,\"%\") # approx 90% -- takes 2 minutes to train"
      ]
    },
    {
      "cell_type": "code",
      "source": [
        "# FGSM Attack -- \n",
        "def fgsm_attack(image, label , epsilon, params):\n",
        "    \n",
        "    image = image.reshape(784, 1)\n",
        "    Output = forward_propg(image, params)\n",
        "    params = backward_propg(params, image, np.array([label]), Output, 0)\n",
        "\n",
        "    #loss with respect to the input vector\n",
        "    dX = params[\"dX\"]\n",
        "\n",
        "    #perturbed image with adding epsilon * sign of the gradient\n",
        "    X = image + epsilon * ((dX > 0) * 2 - 1)\n",
        "\n",
        "    #Returning the perturbed image\n",
        "    return X"
      ],
      "metadata": {
        "id": "gsssdOy--7Sw"
      },
      "execution_count": 52,
      "outputs": []
    },
    {
      "cell_type": "code",
      "source": [
        "def accuracy_fgsm(X, y, params, epsilon) : \n",
        "  predictions = []\n",
        "  for i in  range(1000): \n",
        "    perturbed = fgsm_attack((X.T[i]).T, y[i], epsilon, params )\n",
        "    prediction = predict(perturbed, params)\n",
        "    predictions.append(prediction[0])\n",
        "\n",
        "  return accuracy(np.array(predictions), np.array(y[:1000]))"
      ],
      "metadata": {
        "id": "VMO5IXcwC8Bb"
      },
      "execution_count": 74,
      "outputs": []
    },
    {
      "cell_type": "code",
      "source": [
        "# Percentage accuracy with perturbation using FGSM attack \n",
        "# Play around with values 0.05 to 0.1 to 0.4\n",
        "print(\"Accuracy using FGSM : \", accuracy_fgsm(X_test, y_test, params, 0.25))"
      ],
      "metadata": {
        "colab": {
          "base_uri": "https://localhost:8080/"
        },
        "id": "CKTlQRkZclVq",
        "outputId": "d30a568d-66ce-432c-a6bf-dcc1b004d3a2"
      },
      "execution_count": 82,
      "outputs": [
        {
          "output_type": "stream",
          "name": "stdout",
          "text": [
            "Accuracy using FGSM :  0.0\n"
          ]
        }
      ]
    },
    {
      "cell_type": "code",
      "source": [
        "#demonstration -- run this cell to see the network in action\n",
        "num = np.random.randint(0, 600)\n",
        "image = (X_test.T[num]).T\n",
        "perturbed_image = fgsm_attack(image, y_test[num], 0.01, params)\n",
        "\n",
        "#WITH PERTURBATION\n",
        "'''\n",
        "plt.imshow(perturbed_image.reshape(28, 28))\n",
        "print(\"With perturbation : \", predict(perturbed_image, params))\n",
        "'''\n",
        "\n",
        "#WITHOUT PERTURBATION\n",
        "'''\n",
        "print(\"Without perturbation : \",predict(image.reshape(784, 1), params))\n",
        "plt.imshow(image.reshape(28, 28))\n",
        "'''\n",
        "\n",
        "plt.show()"
      ],
      "metadata": {
        "colab": {
          "base_uri": "https://localhost:8080/",
          "height": 282
        },
        "id": "M8U1wycakW71",
        "outputId": "b5116dd2-f6ee-499c-fff5-1d96c2b2ae02"
      },
      "execution_count": 78,
      "outputs": [
        {
          "output_type": "stream",
          "name": "stdout",
          "text": [
            "With perturbation :  [6]\n"
          ]
        },
        {
          "output_type": "display_data",
          "data": {
            "text/plain": [
              "<Figure size 432x288 with 1 Axes>"
            ],
            "image/png": "[encoded data removed]"
          },
          "metadata": {
            "needs_background": "light"
          }
        }
      ]
    },
    {
      "cell_type": "markdown",
      "metadata": {
        "id": "fGVOZ8yg0VrV"
      },
      "source": [
        "### Save as pickle"
      ]
    },
    {
      "cell_type": "code",
      "execution_count": null,
      "metadata": {
        "id": "_lvDVwmxmjKX",
        "colab": {
          "base_uri": "https://localhost:8080/",
          "height": 17
        },
        "outputId": "d7b149da-67b2-4eaf-aa71-de6717452393"
      },
      "outputs": [
        {
          "output_type": "display_data",
          "data": {
            "text/plain": [
              "<IPython.core.display.Javascript object>"
            ],
            "application/javascript": [
              "\n",
              "    async function download(id, filename, size) {\n",
              "      if (!google.colab.kernel.accessAllowed) {\n",
              "        return;\n",
              "      }\n",
              "      const div = document.createElement('div');\n",
              "      const label = document.createElement('label');\n",
              "      label.textContent = `Downloading \"${filename}\": `;\n",
              "      div.appendChild(label);\n",
              "      const progress = document.createElement('progress');\n",
              "      progress.max = size;\n",
              "      div.appendChild(progress);\n",
              "      document.body.appendChild(div);\n",
              "\n",
              "      const buffers = [];\n",
              "      let downloaded = 0;\n",
              "\n",
              "      const channel = await google.colab.kernel.comms.open(id);\n",
              "      // Send a message to notify the kernel that we're ready.\n",
              "      channel.send({})\n",
              "\n",
              "      for await (const message of channel.messages) {\n",
              "        // Send a message to notify the kernel that we're ready.\n",
              "        channel.send({})\n",
              "        if (message.buffers) {\n",
              "          for (const buffer of message.buffers) {\n",
              "            buffers.push(buffer);\n",
              "            downloaded += buffer.byteLength;\n",
              "            progress.value = downloaded;\n",
              "          }\n",
              "        }\n",
              "      }\n",
              "      const blob = new Blob(buffers, {type: 'application/binary'});\n",
              "      const a = document.createElement('a');\n",
              "      a.href = window.URL.createObjectURL(blob);\n",
              "      a.download = filename;\n",
              "      div.appendChild(a);\n",
              "      a.click();\n",
              "      div.remove();\n",
              "    }\n",
              "  "
            ]
          },
          "metadata": {}
        },
        {
          "output_type": "display_data",
          "data": {
            "text/plain": [
              "<IPython.core.display.Javascript object>"
            ],
            "application/javascript": [
              "download(\"download_233b8a87-b46a-4805-8a56-67920e8f6369\", \"model_210051004.pkl\", 954446)"
            ]
          },
          "metadata": {}
        }
      ],
      "source": [
        "import pickle\n",
        "import random\n",
        "from google.colab import files\n",
        "\n",
        "roll_num = \"210051004\" # enter ldap\n",
        "hidden_dim = 150 # replace with your own hidden dimension\n",
        "\n",
        "model_dict = {\n",
        "    'z': hidden_dim, # hidden dimension of your model\n",
        "    'layer_0_wt': params[\"W1\"], # layer 0 weight (784, z)\n",
        "    'layer_0_bias': params[\"b1\"], # layer 0 bias (z, 1)\n",
        "    'layer_1_wt': params[\"W2\"], # layer 1 weight (z, 10)\n",
        "    'layer_1_bias': params[\"b2\"] # layer 1 bias (10, 1)\n",
        "}\n",
        "\n",
        "assert model_dict['layer_0_wt'].shape == (hidden_dim, 784)\n",
        "assert model_dict['layer_0_bias'].shape == (hidden_dim, 1)\n",
        "assert model_dict['layer_1_wt'].shape == (10, hidden_dim)\n",
        "assert model_dict['layer_1_bias'].shape == (10, 1)\n",
        "\n",
        "with open(f'model_{roll_num}.pkl', 'wb') as f:\n",
        "    pickle.dump(model_dict, f)\n",
        "    files.download(f'model_{roll_num}.pkl') # download the file from the Colab session for submission"
      ]
    },
    {
      "cell_type": "code",
      "source": [
        ""
      ],
      "metadata": {
        "id": "ZbLEzOolQW6P"
      },
      "execution_count": null,
      "outputs": []
    }
  ],
  "metadata": {
    "colab": {
      "collapsed_sections": [],
      "name": "CNN_lytical_Assignment_1.ipynb",
      "provenance": []
    },
    "kernelspec": {
      "display_name": "Python 3",
      "name": "python3"
    },
    "language_info": {
      "name": "python"
    }
  },
  "nbformat": 4,
  "nbformat_minor": 0
}